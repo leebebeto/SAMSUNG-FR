{
 "cells": [
  {
   "cell_type": "code",
   "execution_count": 14,
   "metadata": {
    "collapsed": true
   },
   "outputs": [],
   "source": [
    "# import metrics\n",
    "import os\n",
    "import math\n",
    "import random\n",
    "import time\n",
    "from PIL import Image\n",
    "\n",
    "import torch # pytorch의 tensor와 그와 관련된 기본 연산 등을 지원\n",
    "import torch.nn as nn # 여러 딥러닝 layer와 loss, 함수 등을 클래스 형태로 지원\n",
    "import torch.nn.functional as F # 여러 loss, 함수 등을 function 형태로 지원\n",
    "import torch.optim as optim # 여러 optimizer를 지원\n",
    "import torchvision.models as models\n",
    "\n",
    "dev = 'cuda' if torch.cuda.is_available() else 'cpu'\n",
    "os.environ['CUDA_VISIBLE_DEVICES']='0'"
   ]
  },
  {
   "cell_type": "markdown",
   "metadata": {},
   "source": [
    "### CosFace\n",
    "\n",
    "![Architecture](img/Cosface.PNG)\n",
    "\n",
    "ArcFace와 비슷한 모델 중 하나로 CosFace라는 모델이 있습니다. 위 Loss function은 CosFace의 loss function에 해당합니다. 위 loss function을 참고하여 아래의 ??? 부분을 채워주세요."
   ]
  },
  {
   "cell_type": "code",
   "execution_count": 2,
   "metadata": {},
   "outputs": [
    {
     "ename": "SyntaxError",
     "evalue": "invalid syntax (<ipython-input-2-e80097ab2fb5>, line 17)",
     "output_type": "error",
     "traceback": [
      "\u001b[0;36m  File \u001b[0;32m\"<ipython-input-2-e80097ab2fb5>\"\u001b[0;36m, line \u001b[0;32m17\u001b[0m\n\u001b[0;31m    self.weight = ?????\u001b[0m\n\u001b[0m                  ^\u001b[0m\n\u001b[0;31mSyntaxError\u001b[0m\u001b[0;31m:\u001b[0m invalid syntax\n"
     ]
    }
   ],
   "source": [
    "'''\n",
    "########################## 5개 ##############################\n",
    "'''\n",
    "class CosMarginProduct(nn.Module):\n",
    "    '''\n",
    "    목적 : Cosface 의 last fc layer의 구현\n",
    "    \n",
    "    인자 :\n",
    "    in_features : feature의 dimension\n",
    "    out_features : class 개수\n",
    "    '''\n",
    "    def __init__(self, in_features, out_features, s=30.0, m=0.1):\n",
    "        super(CosMarginProduct, self).__init__()        \n",
    "        self.in_features = in_features\n",
    "        self.out_features = out_features\n",
    "        self.s = s\n",
    "        self.m = m\n",
    "        \n",
    "        # fc의 parameter 만들기 : (in_features x out_features)의 크기를 갖는 FloatTensor로 만들 것\n",
    "        self.weight = ?????\n",
    "        ---> self.weight = torch.nn.Parameter(torch.FloatTensor(in_features, out_features))\n",
    "        \n",
    "        nn.init.xavier_uniform_(self.weight)\n",
    "\n",
    "    def forward(self, input, label):\n",
    "        '''\n",
    "        Step 1. cos(theta)-m 계산하기\n",
    "        '''\n",
    "\n",
    "        # cos_theta = (x / ||x||) * (w * ||w||) 를 이용해 cosine_theta 구하기\n",
    "        # 어느 dimension을 기준으로 normalization을 해서 torch.mm에 넘겨줘야 할까요?\n",
    "        cos = torch.mm(F.normalize(input, dim=?????), F.normalize(self.weight, dim=?????))\n",
    "        ---> cos = torch.mm(F.normalize(input, dim=1), F.normalize(self.weight, dim=0))\n",
    "        \n",
    "        \n",
    "        # cos_theta - m 구하기\n",
    "        cos_m = ?????\n",
    "        ---> cos_m = cos - self.m\n",
    "        \n",
    "        '''\n",
    "        Step 2. cos(theta)-m 에서 dim=1에 기준으로 y_i에 해당하는 부분만 남기고 나머지는 cos(theta)로 되돌리기 \n",
    "        '''\n",
    "        one_hot = torch.zeros(cos.size()).to(dev)\n",
    "        one_hot.scatter_(1, label.view(-1, 1).long(), 1)\n",
    "        output = (????? * cos_m) + (????? * cos)\n",
    "        ---> output = (one_hot * cos_m) + ((1.0 - one_hot) * cos)\n",
    "        '''\n",
    "        Step 3. 최종 output 계산하기\n",
    "        '''\n",
    "        output *= ?????\n",
    "        ---> output *= self.s\n",
    "        \n",
    "        return output"
   ]
  },
  {
   "cell_type": "markdown",
   "metadata": {},
   "source": [
    "### SphereFace\n",
    "\n",
    "![Architecture](img/Sphereface.PNG)\n",
    "\n",
    "ArcFace와 비슷한 모델 중 하나로 SphereFace 모델이 있습니다. 위 Loss function은 SphereFace의 loss function에 해당합니다. 위 loss function을 참고하여 아래의 ??? 부분을 채워주세요."
   ]
  },
  {
   "cell_type": "code",
   "execution_count": 8,
   "metadata": {
    "collapsed": true
   },
   "outputs": [],
   "source": [
    "'''\n",
    "########################## 5개 ##############################\n",
    "'''\n",
    "class SphereMarginProduct(nn.Module):\n",
    "    '''\n",
    "    목적 : Sphereface의 last fc layer의 구현\n",
    "    \n",
    "    인자 :\n",
    "    in_features : feature의 dimension\n",
    "    out_features : class 개수\n",
    "    '''\n",
    "    def __init__(self, in_features, out_features, m=4):\n",
    "        super(SphereMarginProduct, self).__init__()\n",
    "        self.in_features = in_features\n",
    "        self.out_features = out_features\n",
    "        self.m = m\n",
    "        \n",
    "        # fc의 parameter 만들기 : (out_features x in_features)의 크기를 갖는 FloatTensor로 만들 것\n",
    "        self.weight = ?????\n",
    "        ---> self.weight = torch.nn.Parameter(torch.FloatTensor(out_features, in_features))\n",
    "        nn.init.xavier_uniform_(self.weight)\n",
    "\n",
    "    def forward(self, input, label):\n",
    "        '''\n",
    "        Step 1. cos(m * theta) 계산하기\n",
    "        '''\n",
    "\n",
    "        # cos_theta = (x / ||x||) * (w * ||w||) 를 이용해 cosine_theta 구하기\n",
    "        # 어느 dimension을 기준으로 normalization을 해서 F.linear에 넘겨줘야 할까요?\n",
    "        cos = F.linear(F.normalize(input, dim=?????), F.normalize(self.weight, dim=?????))\n",
    "        ---> cos = F.linear(F.normalize(input, dim=1), F.normalize(self.weight, dim=1))\n",
    "        # cos(m * theta) 구하기. 논문에서 m=4로 제시하고 있으므로 m=4 일 경우에 대해서만 계산합니다.\n",
    "        # 효율성을 위해 arccos 등의 다른 연산 없이 위에서 얻은 cos만을 사용해 계산합니다.\n",
    "        cos_m = ?????\n",
    "        ---> cos_m = 1 - 8*(cos**2) + 8*(cos**4)\n",
    "        \n",
    "        --> cos2 = 2*cos*cos - 1\n",
    "        --> cos_m = 2*cos2*cos2 - 1\n",
    "        \n",
    "        '''\n",
    "        Step 2. cos(m * theta) 에서 dim=1에 기준으로 y_i에 해당하는 부분만 남기고 나머지는 cos(theta)로 되돌리기 \n",
    "        '''\n",
    "        one_hot = torch.zeros(cos.size()).to('cpu')\n",
    "        one_hot.scatter_(1, label.view(-1, 1).long(), 1)\n",
    "        output = (????? * cos_m) + (????? * cos)\n",
    "        ---> output = (one_hot * cos_m) + ((1.0 - one_hot) * cos)\n",
    "        '''\n",
    "        Step 3. 최종 output 계산하기\n",
    "        '''\n",
    "        '''\n",
    "        ##### 둘 다 맞아야 1개로 인정 #####\n",
    "        '''\n",
    "        x_norm = ?????\n",
    "        output *= ?????\n",
    "        ---> x_norm = torch.norm(input, p='fro', dim=1)\n",
    "        ---> output *= x_norm.unsqueeze(dim=1)\n",
    "        return output\n"
   ]
  },
  {
   "cell_type": "code",
   "execution_count": 1,
   "metadata": {},
   "outputs": [
    {
     "name": "stdout",
     "output_type": "stream",
     "text": [
      "14.142136\n"
     ]
    }
   ],
   "source": [
    "import torch\n",
    "import numpy as np\n",
    "input = torch.ones(20, 10)\n",
    "x_norm = np.linalg.norm(input,ord=2)\n",
    "print(x_norm)"
   ]
  },
  {
   "cell_type": "code",
   "execution_count": 23,
   "metadata": {},
   "outputs": [],
   "source": [
    "x = torch.randn(20, 10)\n",
    "x_norm = torch.norm(x, dim=1).unsqueeze(dim=1)\n",
    "x *= x_norm"
   ]
  },
  {
   "cell_type": "markdown",
   "metadata": {},
   "source": [
    "### Backbone network\n",
    "\n",
    "ResNet-101을 이용하여 Backbone network를 구현합니다. 아래 코드의 ??? 부분을 채워주세요."
   ]
  },
  {
   "cell_type": "code",
   "execution_count": 39,
   "metadata": {
    "collapsed": true
   },
   "outputs": [],
   "source": [
    "'''\n",
    "########################## 4개 ##############################\n",
    "'''\n",
    "class FeatureNet_101(nn.Module):\n",
    "    def __init__(self, dim_feature):\n",
    "        super(FeatureNet_101, self).__init__()\n",
    "        resnet = models.resnet101(pretrained=False)\n",
    "\n",
    "        # resnet-101의 마지막 Conv layer block 까지 남기고 그 뒷부분은 잘라냅니다.\n",
    "        # resnet-101 의 구조를 print해서 어디를 잘라야할 지 알 수 있습니다.\n",
    "        self.backbone = nn.Sequential(* list(resnet.children())[?????])\n",
    "        --> self.backbone = nn.Sequential(* list(resnet.children())[0:-2])\n",
    "        \n",
    "        # 마지막 Conv layer block 부분 이후로 붙는 layer들입니다.\n",
    "        # resnet-101 의 구조를 print해서 어떻게 뒤 쪽 layer를 디자인 해야할 지 알 수 있습니다.\n",
    "        self.bn_4 = nn.BatchNorm2d(?????)\n",
    "        --> self.bn_4 = nn.BatchNorm2d(2048)\n",
    "        self.dropout = nn.Dropout()\n",
    "        self.fc = nn.Linear(?????, dim_feature)\n",
    "        --> self.fc = nn.Linear(2048 * 4 * 4, dim_feature)\n",
    "        self.bn_5 = nn.BatchNorm1d(?????)\n",
    "        --> self.bn_5 = nn.BatchNorm1d(dim_feature)\n",
    "        \n",
    "    def forward(self, x):\n",
    "        out = self.backbone(x)\n",
    "        out = self.bn_4(out)\n",
    "        out = self.dropout(out)\n",
    "        out = out.view(out.size(0), -1)\n",
    "\n",
    "        out = self.fc(out)\n",
    "        out = self.bn_5(out)\n",
    "        return out"
   ]
  },
  {
   "cell_type": "code",
   "execution_count": 32,
   "metadata": {},
   "outputs": [
    {
     "data": {
      "text/plain": [
       "32768"
      ]
     },
     "execution_count": 32,
     "metadata": {},
     "output_type": "execute_result"
    }
   ],
   "source": [
    "2048*4*4"
   ]
  },
  {
   "cell_type": "markdown",
   "metadata": {},
   "source": [
    "### FaceNet\n",
    "\n",
    "위에서 구현한 각 모델의 마지막 FC layer들과 Backbone network를 합쳐서 하나의 얼굴인식모델을 만듭니다.\n",
    "아래 코드의 ??? 부분을 채워주세요."
   ]
  },
  {
   "cell_type": "code",
   "execution_count": 40,
   "metadata": {
    "collapsed": true
   },
   "outputs": [],
   "source": [
    "'''\n",
    "########################## 1개 ##############################\n",
    "'''\n",
    "class FaceNet(nn.Module):\n",
    "    '''\n",
    "    ArcMarginProduct와 FeatureNet-18 을 결합한 ArcFace 모델의 구현\n",
    "    '''\n",
    "    def __init__(self, feature_dim, cls_num, model_type='Cosface'):\n",
    "        super(FaceNet, self).__init__()\n",
    "        self.feature_net = FeatureNet_101(feature_dim)\n",
    "        \n",
    "        if model_type == 'Cosface':\n",
    "            self.classifier = CosMarginProduct(feature_dim, cls_num)\n",
    "        elif model_type == 'Sphereface':\n",
    "            self.classifier = SphereMarginProduct(feature_dim, cls_num)\n",
    "\n",
    "    # 끝까지 Forward 하여 logit을 return\n",
    "    '''\n",
    "    ##### 둘 다 맞아야 1개로 인정 #####\n",
    "    '''\n",
    "    def forward(self, x, label):\n",
    "        out = ?????\n",
    "        --> out = classifier(self.feature_net(x), label)\n",
    "        return out\n",
    "    \n",
    "    # Feature를 extract\n",
    "    def extract_feature(self, x):\n",
    "        out = ?????\n",
    "        --> out = self.feature_net(x)\n",
    "        return out"
   ]
  },
  {
   "cell_type": "code",
   "execution_count": 45,
   "metadata": {
    "collapsed": true
   },
   "outputs": [],
   "source": [
    "# 두 input 이미지의 유사도를 측정하는데 사용되는 cosine similarity\n",
    "\n",
    "def cos_dist(x1, x2):\n",
    "    return torch.sum(x1 * x2) / (torch.norm(x1) * torch.norm(x2))"
   ]
  },
  {
   "cell_type": "markdown",
   "metadata": {},
   "source": [
    "### FaceNet\n",
    "\n",
    "FaceNet을 이용하여 두 input 사이의 similarity를 계산합니다."
   ]
  },
  {
   "cell_type": "code",
   "execution_count": 55,
   "metadata": {},
   "outputs": [
    {
     "name": "stdout",
     "output_type": "stream",
     "text": [
      "두 input의 유사도는 0.999656 입니다.\n"
     ]
    }
   ],
   "source": [
    "'''\n",
    "########################## 1개 ##############################\n",
    "'''\n",
    "'''\n",
    "##### 전체 다 맞아야 하나로 인정 #####\n",
    "'''\n",
    "\n",
    "# 두 input입니다.\n",
    "x_1 = torch.randn(1, 3, 128, 128).to(dev)\n",
    "x_2 = torch.randn(1, 3, 128, 128).to(dev)\n",
    "\n",
    "# 각 model을 만듭니다. 이 모델에서 사용하는 feature의 dim은 512고 class는 총 1000개가 있습니다.\n",
    "SphereFaceNet = ?????\n",
    "CosFaceNet = ?????\n",
    "\n",
    "--> SphereFaceNet = FaceNet(feature_dim=512, cls_num=1000, model_type='Sphereface').to(dev)\n",
    "--> CosFaceNet = FaceNet(feature_dim=512, cls_num=1000, model_type='Cosface').to(dev)\n",
    "\n",
    "\n",
    "# test를 위해 model을 test phase로 변경합니다.\n",
    "# 특정 layer는 training과 test 떄 다르게 동작하므로 이 설정은 필수입니다. (ex. dropout, batchnorm ...) \n",
    "SphereFaceNet.?????\n",
    "CosFaceNet.?????\n",
    "\n",
    "--> SphereFaceNet.eval()\n",
    "--> CosFaceNet.eval()\n",
    "\n",
    "# x_1, x_2로부터 SphereFace 모델을 이용해 feature를 추출합니다.\n",
    "feature_1 = ?????\n",
    "feature_2 = ?????\n",
    "\n",
    "--> feature_1 = SphereFaceNet.extract_feature(x_1)\n",
    "--> feature_2 = SphereFaceNet.extract_feature(x_2)\n",
    "\n",
    "# 두 feature의 유사도를 계산합니다.\n",
    "sim = cos_dist(feature_1, feature_2)\n",
    "print('SphereFace에서 두 input의 유사도는 %f 입니다.' % sim.item())\n",
    "\n",
    "# x_1, x_2로부터 CosFace 모델을 이용해 feature를 추출합니다.\n",
    "feature_1 = ?????\n",
    "feature_2 = ?????\n",
    "\n",
    "--> feature_1 = CosFaceNet.extract_feature(x_1)\n",
    "--> feature_2 = CosFaceNet.extract_feature(x_2)\n",
    "\n",
    "# 두 feature의 유사도를 계산합니다.\n",
    "sim = cos_dist(feature_1, feature_2)\n",
    "print('CosFace에서 두 input의 유사도는 %f 입니다.' % sim.item())"
   ]
  }
 ],
 "metadata": {
  "kernelspec": {
   "display_name": "Python 3",
   "language": "python",
   "name": "python3"
  },
  "language_info": {
   "codemirror_mode": {
    "name": "ipython",
    "version": 3
   },
   "file_extension": ".py",
   "mimetype": "text/x-python",
   "name": "python",
   "nbconvert_exporter": "python",
   "pygments_lexer": "ipython3",
   "version": "3.6.2"
  },
  "pycharm": {
   "stem_cell": {
    "cell_type": "raw",
    "source": [],
    "metadata": {
     "collapsed": false
    }
   }
  }
 },
 "nbformat": 4,
 "nbformat_minor": 2
}